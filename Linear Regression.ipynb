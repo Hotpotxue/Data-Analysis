{
 "cells": [
  {
   "cell_type": "code",
   "execution_count": 2,
   "metadata": {},
   "outputs": [],
   "source": [
    "import numpy as np\n",
    "import matplotlib.pyplot as plt\n",
    "import matplotlib\n",
    "\n",
    "#下面三行表示正常显示中文与中文符号\n",
    "matplotlib.rcParams['font.sans-serif'] = ['SimHei']\n",
    "matplotlib.rcParams['font.family'] = 'sans-serif'\n",
    "matplotlib.rcParams['axes.unicode_minus'] = False"
   ]
  },
  {
   "cell_type": "code",
   "execution_count": 3,
   "metadata": {},
   "outputs": [],
   "source": [
    "def loadDataSet(filename):\n",
    "    X=[]\n",
    "    Y=[]\n",
    "    with open(filename,'rb') as f:\n",
    "        for idx,line in enumerate(f):\n",
    "            line = line.decode('utf-8').strip() #把空格strip掉\n",
    "            if not line: #如果行是空的\n",
    "                continue\n",
    "                \n",
    "            eles = line.split()\n",
    "            \n",
    "            if idx == 0:\n",
    "                numFea = len(eles)\n",
    "                \n",
    "            eles = map(float,eles)\n",
    "            \n",
    "            X.append(eles[:-1])\n",
    "            Y.append([eles[-1]])#最后一列是标签，m*1\n",
    "    return np.array(X),np.array(Y)"
   ]
  },
  {
   "cell_type": "code",
   "execution_count": 4,
   "metadata": {},
   "outputs": [],
   "source": [
    "def h(theta,X): #表示h(x) = theta·X，X是m*n的\n",
    "    return np.dot(X,theta)"
   ]
  },
  {
   "cell_type": "code",
   "execution_count": 5,
   "metadata": {},
   "outputs": [],
   "source": [
    "def J(theta,X,Y):#表示代价函数\n",
    "    m = len(X)\n",
    "    return np.sum(np.dot((h(theta,X)-Y).T,(h(theta,X)-Y))/(2*m)) #1*1的那也是矩阵，需要sum一下"
   ]
  },
  {
   "cell_type": "code",
   "execution_count": null,
   "metadata": {},
   "outputs": [],
   "source": []
  }
 ],
 "metadata": {
  "kernelspec": {
   "display_name": "Python 2",
   "language": "python",
   "name": "python2"
  },
  "language_info": {
   "codemirror_mode": {
    "name": "ipython",
    "version": 2
   },
   "file_extension": ".py",
   "mimetype": "text/x-python",
   "name": "python",
   "nbconvert_exporter": "python",
   "pygments_lexer": "ipython2",
   "version": "2.7.15"
  }
 },
 "nbformat": 4,
 "nbformat_minor": 2
}
